{
  "nbformat": 4,
  "nbformat_minor": 0,
  "metadata": {
    "colab": {
      "provenance": []
    },
    "kernelspec": {
      "name": "python3",
      "display_name": "Python 3"
    },
    "language_info": {
      "name": "python"
    }
  },
  "cells": [
    {
      "cell_type": "code",
      "source": [
        "import numpy as np"
      ],
      "metadata": {
        "id": "YzAvD0cEbyE7"
      },
      "execution_count": null,
      "outputs": []
    },
    {
      "cell_type": "code",
      "execution_count": null,
      "metadata": {
        "colab": {
          "base_uri": "https://localhost:8080/"
        },
        "id": "9hEA0EMaYb-W",
        "outputId": "677b8d49-7e71-4e5c-def0-1e64c6d811f3"
      },
      "outputs": [
        {
          "output_type": "stream",
          "name": "stdout",
          "text": [
            "Writing coord\n"
          ]
        }
      ],
      "source": [
        "%%file coord\n",
        "0 0\n",
        "30 50\n",
        "20 90\n",
        "40 -20\n",
        "-48 17\n",
        "69 16\n",
        "-70 16\n",
        "64 25\n",
        "3 -22\n",
        "-20 68"
      ]
    },
    {
      "cell_type": "code",
      "source": [
        "def read_coords(path):\n",
        "    coords = []\n",
        "    with open(path) as f:\n",
        "        for line in f.readlines():\n",
        "            line = [float(x.replace(\"\\n\", \"\")) for x in line.split(\" \")]\n",
        "            coords.append(line)\n",
        "    return coords\n",
        "\n",
        "coords = read_coords(\"coord\")\n",
        "print(\"coords array\", coords)\n",
        "visitlist = list(range(0,len(coords)-1))\n",
        "np.random.shuffle(visitlist)\n",
        "print(\"City Order:\", visitlist)"
      ],
      "metadata": {
        "id": "inyzJrSrYnzD",
        "outputId": "3944c567-d68a-41b8-932a-3b78b766d578",
        "colab": {
          "base_uri": "https://localhost:8080/"
        }
      },
      "execution_count": null,
      "outputs": [
        {
          "output_type": "stream",
          "name": "stdout",
          "text": [
            "coords array [[0.0, 0.0], [30.0, 50.0], [20.0, 90.0], [40.0, -20.0], [-48.0, 17.0], [69.0, 16.0], [-70.0, 16.0], [64.0, 25.0], [3.0, -22.0], [-20.0, 68.0]]\n",
            "City Order: [8, 6, 5, 1, 2, 4, 0, 7, 3]\n"
          ]
        }
      ]
    }
  ]
}